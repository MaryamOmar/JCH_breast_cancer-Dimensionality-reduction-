{
 "cells": [
  {
   "cell_type": "markdown",
   "id": "c2ca6a89",
   "metadata": {},
   "source": [
    "## DESCRIPTION\n",
    "\n",
    "John Cancer Hospital (JCH) is a leading cancer hospital in USA. It specializes in treating breast cancer. Over the last few years, JCH has collected breast cancer data from patients who came for screening/treatment. However, this data has almost 30 attributes, and it is difficult to run and interpret the results. You, as an ML expert, have to reduce the number of attributes\n",
    "(Dimensionality Reduction) so that the results are meaningful and accurate.\n",
    "\n",
    "Objective: Reduce the number of attributes/features in data to make the analysis of the results comprehensible to doctors.\n",
    "\n",
    "### Actions to Perform:\n",
    "\n",
    "1- Use pandas to read data as a dataframe.\n",
    "\n",
    "2- Check the data. There should be no missing values.\n",
    "\n",
    "3- Convert the diagnosis column to 1/0 and store in a new column target.\n",
    "\n",
    "4- Store the encoded column in dataframe and drop the diagnosis column for simplicity.\n",
    "\n",
    "5- Scale the data so that each feature has a single unit variance.\n",
    "\n",
    "6- Transform this data to its first 2 principal components.\n",
    "\n",
    "7- Plot the two dimensions.\n",
    "\n",
    "8- Print the explained variance.\n",
    "\n",
    "9- Try the same with 3 principal components.\n",
    "\n",
    "10- Check the accuracy for 2nd and 3rd components.\n"
   ]
  },
  {
   "cell_type": "markdown",
   "id": "550496c1",
   "metadata": {},
   "source": [
    "# Data Set: Cancer Data Set\n",
    "Features are computed from a digitized image of a Fine-Needle Aspirate (FNA) of a breast mass. They describe characteristics of the cell nuclei present in the image. n the 3-dimensional space is that described in: [K. P. Bennett and O. L. Mangasarian: \"Robust Linear Programming Discrimination of Two Linearly Inseparable Sets\", Optimization Methods and Software 1, 1992, 23-34].\n",
    "\n",
    "This database is also available through the UW CS ftp server: ftp ftp.cs.wisc.edu cd math-prog/cpo-dataset/machine-learn/WDBC/\n",
    "\n",
    "Also can be found on UCI Machine Learning Repository: https://archive.ics.uci.edu/ml/datasets/Breast+Cancer+Wisconsin+%28Diagnostic%29\n",
    "\n",
    "Attribute Information:\n",
    "\n",
    "1) ID number 2) Diagnosis (M = malignant, B = benign)\n",
    "\n",
    "Ten real-valued features are computed for each cell nucleus:\n",
    "\n",
    "a) radius (mean of distances from center to points on the perimeter) b) texture (standard deviation of gray-scale values) c) perimeter d) area e) smoothness (local variation in radius lengths) f) compactness (perimeter^2 / area - 1.0) g) concavity (severity of concave portions of the contour) h) concave points (number of concave portions of the contour) i) symmetry j) fractal dimension (\"coastline approximation\" - 1)\n",
    "\n",
    "The mean, standard error and \"worst\" or largest (mean of the three largest values) of these features were computed for each image, resulting in 30 features. For instance, field 3 is Mean Radius, field 13 is Radius SE, field 23 is Worst Radius.\n",
    "\n",
    "All feature values are recoded with four significant digits.\n",
    "\n",
    "Missing attribute values: none\n",
    "\n",
    "Class distribution: 357 benign, 212 malignant"
   ]
  },
  {
   "cell_type": "code",
   "execution_count": 152,
   "id": "f78cdf5d",
   "metadata": {},
   "outputs": [],
   "source": [
    "import pandas as pd\n",
    "import numpy as np \n",
    "import seaborn as sns\n",
    "import matplotlib.pyplot as plt\n",
    "\n",
    "%matplotlib inline"
   ]
  },
  {
   "cell_type": "code",
   "execution_count": 153,
   "id": "9987a35f",
   "metadata": {},
   "outputs": [],
   "source": [
    "df=pd.read_csv('breast-cancer-data.csv')"
   ]
  },
  {
   "cell_type": "code",
   "execution_count": 154,
   "id": "4b74094d",
   "metadata": {},
   "outputs": [
    {
     "data": {
      "text/html": [
       "<div>\n",
       "<style scoped>\n",
       "    .dataframe tbody tr th:only-of-type {\n",
       "        vertical-align: middle;\n",
       "    }\n",
       "\n",
       "    .dataframe tbody tr th {\n",
       "        vertical-align: top;\n",
       "    }\n",
       "\n",
       "    .dataframe thead th {\n",
       "        text-align: right;\n",
       "    }\n",
       "</style>\n",
       "<table border=\"1\" class=\"dataframe\">\n",
       "  <thead>\n",
       "    <tr style=\"text-align: right;\">\n",
       "      <th></th>\n",
       "      <th>id</th>\n",
       "      <th>diagnosis</th>\n",
       "      <th>radius_mean</th>\n",
       "      <th>texture_mean</th>\n",
       "      <th>perimeter_mean</th>\n",
       "      <th>area_mean</th>\n",
       "      <th>smoothness_mean</th>\n",
       "      <th>compactness_mean</th>\n",
       "      <th>concavity_mean</th>\n",
       "      <th>concave points_mean</th>\n",
       "      <th>...</th>\n",
       "      <th>radius_worst</th>\n",
       "      <th>texture_worst</th>\n",
       "      <th>perimeter_worst</th>\n",
       "      <th>area_worst</th>\n",
       "      <th>smoothness_worst</th>\n",
       "      <th>compactness_worst</th>\n",
       "      <th>concavity_worst</th>\n",
       "      <th>concave points_worst</th>\n",
       "      <th>symmetry_worst</th>\n",
       "      <th>fractal_dimension_worst</th>\n",
       "    </tr>\n",
       "  </thead>\n",
       "  <tbody>\n",
       "    <tr>\n",
       "      <th>66</th>\n",
       "      <td>859464</td>\n",
       "      <td>B</td>\n",
       "      <td>9.465</td>\n",
       "      <td>21.01</td>\n",
       "      <td>60.11</td>\n",
       "      <td>269.4</td>\n",
       "      <td>0.10440</td>\n",
       "      <td>0.07773</td>\n",
       "      <td>0.02172</td>\n",
       "      <td>0.01504</td>\n",
       "      <td>...</td>\n",
       "      <td>10.41</td>\n",
       "      <td>31.56</td>\n",
       "      <td>67.03</td>\n",
       "      <td>330.7</td>\n",
       "      <td>0.1548</td>\n",
       "      <td>0.1664</td>\n",
       "      <td>0.09412</td>\n",
       "      <td>0.06517</td>\n",
       "      <td>0.2878</td>\n",
       "      <td>0.09211</td>\n",
       "    </tr>\n",
       "    <tr>\n",
       "      <th>482</th>\n",
       "      <td>912519</td>\n",
       "      <td>B</td>\n",
       "      <td>13.470</td>\n",
       "      <td>14.06</td>\n",
       "      <td>87.32</td>\n",
       "      <td>546.3</td>\n",
       "      <td>0.10710</td>\n",
       "      <td>0.11550</td>\n",
       "      <td>0.05786</td>\n",
       "      <td>0.05266</td>\n",
       "      <td>...</td>\n",
       "      <td>14.83</td>\n",
       "      <td>18.32</td>\n",
       "      <td>94.94</td>\n",
       "      <td>660.2</td>\n",
       "      <td>0.1393</td>\n",
       "      <td>0.2499</td>\n",
       "      <td>0.18480</td>\n",
       "      <td>0.13350</td>\n",
       "      <td>0.3227</td>\n",
       "      <td>0.09326</td>\n",
       "    </tr>\n",
       "    <tr>\n",
       "      <th>323</th>\n",
       "      <td>895100</td>\n",
       "      <td>M</td>\n",
       "      <td>20.340</td>\n",
       "      <td>21.51</td>\n",
       "      <td>135.90</td>\n",
       "      <td>1264.0</td>\n",
       "      <td>0.11700</td>\n",
       "      <td>0.18750</td>\n",
       "      <td>0.25650</td>\n",
       "      <td>0.15040</td>\n",
       "      <td>...</td>\n",
       "      <td>25.30</td>\n",
       "      <td>31.86</td>\n",
       "      <td>171.10</td>\n",
       "      <td>1938.0</td>\n",
       "      <td>0.1592</td>\n",
       "      <td>0.4492</td>\n",
       "      <td>0.53440</td>\n",
       "      <td>0.26850</td>\n",
       "      <td>0.5558</td>\n",
       "      <td>0.10240</td>\n",
       "    </tr>\n",
       "    <tr>\n",
       "      <th>494</th>\n",
       "      <td>914102</td>\n",
       "      <td>B</td>\n",
       "      <td>13.160</td>\n",
       "      <td>20.54</td>\n",
       "      <td>84.06</td>\n",
       "      <td>538.7</td>\n",
       "      <td>0.07335</td>\n",
       "      <td>0.05275</td>\n",
       "      <td>0.01800</td>\n",
       "      <td>0.01256</td>\n",
       "      <td>...</td>\n",
       "      <td>14.50</td>\n",
       "      <td>28.46</td>\n",
       "      <td>95.29</td>\n",
       "      <td>648.3</td>\n",
       "      <td>0.1118</td>\n",
       "      <td>0.1646</td>\n",
       "      <td>0.07698</td>\n",
       "      <td>0.04195</td>\n",
       "      <td>0.2687</td>\n",
       "      <td>0.07429</td>\n",
       "    </tr>\n",
       "    <tr>\n",
       "      <th>518</th>\n",
       "      <td>917062</td>\n",
       "      <td>B</td>\n",
       "      <td>12.880</td>\n",
       "      <td>18.22</td>\n",
       "      <td>84.45</td>\n",
       "      <td>493.1</td>\n",
       "      <td>0.12180</td>\n",
       "      <td>0.16610</td>\n",
       "      <td>0.04825</td>\n",
       "      <td>0.05303</td>\n",
       "      <td>...</td>\n",
       "      <td>15.05</td>\n",
       "      <td>24.37</td>\n",
       "      <td>99.31</td>\n",
       "      <td>674.7</td>\n",
       "      <td>0.1456</td>\n",
       "      <td>0.2961</td>\n",
       "      <td>0.12460</td>\n",
       "      <td>0.10960</td>\n",
       "      <td>0.2582</td>\n",
       "      <td>0.08893</td>\n",
       "    </tr>\n",
       "  </tbody>\n",
       "</table>\n",
       "<p>5 rows × 32 columns</p>\n",
       "</div>"
      ],
      "text/plain": [
       "         id diagnosis  radius_mean  texture_mean  perimeter_mean  area_mean  \\\n",
       "66   859464         B        9.465         21.01           60.11      269.4   \n",
       "482  912519         B       13.470         14.06           87.32      546.3   \n",
       "323  895100         M       20.340         21.51          135.90     1264.0   \n",
       "494  914102         B       13.160         20.54           84.06      538.7   \n",
       "518  917062         B       12.880         18.22           84.45      493.1   \n",
       "\n",
       "     smoothness_mean  compactness_mean  concavity_mean  concave points_mean  \\\n",
       "66           0.10440           0.07773         0.02172              0.01504   \n",
       "482          0.10710           0.11550         0.05786              0.05266   \n",
       "323          0.11700           0.18750         0.25650              0.15040   \n",
       "494          0.07335           0.05275         0.01800              0.01256   \n",
       "518          0.12180           0.16610         0.04825              0.05303   \n",
       "\n",
       "     ...  radius_worst  texture_worst  perimeter_worst  area_worst  \\\n",
       "66   ...         10.41          31.56            67.03       330.7   \n",
       "482  ...         14.83          18.32            94.94       660.2   \n",
       "323  ...         25.30          31.86           171.10      1938.0   \n",
       "494  ...         14.50          28.46            95.29       648.3   \n",
       "518  ...         15.05          24.37            99.31       674.7   \n",
       "\n",
       "     smoothness_worst  compactness_worst  concavity_worst  \\\n",
       "66             0.1548             0.1664          0.09412   \n",
       "482            0.1393             0.2499          0.18480   \n",
       "323            0.1592             0.4492          0.53440   \n",
       "494            0.1118             0.1646          0.07698   \n",
       "518            0.1456             0.2961          0.12460   \n",
       "\n",
       "     concave points_worst  symmetry_worst  fractal_dimension_worst  \n",
       "66                0.06517          0.2878                  0.09211  \n",
       "482               0.13350          0.3227                  0.09326  \n",
       "323               0.26850          0.5558                  0.10240  \n",
       "494               0.04195          0.2687                  0.07429  \n",
       "518               0.10960          0.2582                  0.08893  \n",
       "\n",
       "[5 rows x 32 columns]"
      ]
     },
     "execution_count": 154,
     "metadata": {},
     "output_type": "execute_result"
    }
   ],
   "source": [
    "df.sample(5)"
   ]
  },
  {
   "cell_type": "code",
   "execution_count": 155,
   "id": "7443975e",
   "metadata": {},
   "outputs": [
    {
     "name": "stdout",
     "output_type": "stream",
     "text": [
      "<class 'pandas.core.frame.DataFrame'>\n",
      "RangeIndex: 569 entries, 0 to 568\n",
      "Data columns (total 32 columns):\n",
      " #   Column                   Non-Null Count  Dtype  \n",
      "---  ------                   --------------  -----  \n",
      " 0   id                       569 non-null    int64  \n",
      " 1   diagnosis                569 non-null    object \n",
      " 2   radius_mean              569 non-null    float64\n",
      " 3   texture_mean             569 non-null    float64\n",
      " 4   perimeter_mean           569 non-null    float64\n",
      " 5   area_mean                569 non-null    float64\n",
      " 6   smoothness_mean          569 non-null    float64\n",
      " 7   compactness_mean         569 non-null    float64\n",
      " 8   concavity_mean           569 non-null    float64\n",
      " 9   concave points_mean      569 non-null    float64\n",
      " 10  symmetry_mean            569 non-null    float64\n",
      " 11  fractal_dimension_mean   569 non-null    float64\n",
      " 12  radius_se                569 non-null    float64\n",
      " 13  texture_se               569 non-null    float64\n",
      " 14  perimeter_se             569 non-null    float64\n",
      " 15  area_se                  569 non-null    float64\n",
      " 16  smoothness_se            569 non-null    float64\n",
      " 17  compactness_se           569 non-null    float64\n",
      " 18  concavity_se             569 non-null    float64\n",
      " 19  concave points_se        569 non-null    float64\n",
      " 20  symmetry_se              569 non-null    float64\n",
      " 21  fractal_dimension_se     569 non-null    float64\n",
      " 22  radius_worst             569 non-null    float64\n",
      " 23  texture_worst            569 non-null    float64\n",
      " 24  perimeter_worst          569 non-null    float64\n",
      " 25  area_worst               569 non-null    float64\n",
      " 26  smoothness_worst         569 non-null    float64\n",
      " 27  compactness_worst        569 non-null    float64\n",
      " 28  concavity_worst          569 non-null    float64\n",
      " 29  concave points_worst     569 non-null    float64\n",
      " 30  symmetry_worst           569 non-null    float64\n",
      " 31  fractal_dimension_worst  569 non-null    float64\n",
      "dtypes: float64(30), int64(1), object(1)\n",
      "memory usage: 142.4+ KB\n"
     ]
    }
   ],
   "source": [
    "df.info()"
   ]
  },
  {
   "cell_type": "code",
   "execution_count": 156,
   "id": "a6aa18b4",
   "metadata": {},
   "outputs": [],
   "source": [
    "df.loc[df['diagnosis'] == 'M', 'n_diagnosis'] = 1\n",
    "df.loc[df['diagnosis'] == 'B', 'n_diagnosis'] = 0\n",
    "df.drop('diagnosis',axis=1,inplace=True)\n",
    "df['n_diagnosis']= df['n_diagnosis'].astype('int')"
   ]
  },
  {
   "cell_type": "code",
   "execution_count": 157,
   "id": "3b6593ea",
   "metadata": {},
   "outputs": [
    {
     "name": "stdout",
     "output_type": "stream",
     "text": [
      "<class 'pandas.core.frame.DataFrame'>\n",
      "RangeIndex: 569 entries, 0 to 568\n",
      "Data columns (total 32 columns):\n",
      " #   Column                   Non-Null Count  Dtype  \n",
      "---  ------                   --------------  -----  \n",
      " 0   id                       569 non-null    int64  \n",
      " 1   radius_mean              569 non-null    float64\n",
      " 2   texture_mean             569 non-null    float64\n",
      " 3   perimeter_mean           569 non-null    float64\n",
      " 4   area_mean                569 non-null    float64\n",
      " 5   smoothness_mean          569 non-null    float64\n",
      " 6   compactness_mean         569 non-null    float64\n",
      " 7   concavity_mean           569 non-null    float64\n",
      " 8   concave points_mean      569 non-null    float64\n",
      " 9   symmetry_mean            569 non-null    float64\n",
      " 10  fractal_dimension_mean   569 non-null    float64\n",
      " 11  radius_se                569 non-null    float64\n",
      " 12  texture_se               569 non-null    float64\n",
      " 13  perimeter_se             569 non-null    float64\n",
      " 14  area_se                  569 non-null    float64\n",
      " 15  smoothness_se            569 non-null    float64\n",
      " 16  compactness_se           569 non-null    float64\n",
      " 17  concavity_se             569 non-null    float64\n",
      " 18  concave points_se        569 non-null    float64\n",
      " 19  symmetry_se              569 non-null    float64\n",
      " 20  fractal_dimension_se     569 non-null    float64\n",
      " 21  radius_worst             569 non-null    float64\n",
      " 22  texture_worst            569 non-null    float64\n",
      " 23  perimeter_worst          569 non-null    float64\n",
      " 24  area_worst               569 non-null    float64\n",
      " 25  smoothness_worst         569 non-null    float64\n",
      " 26  compactness_worst        569 non-null    float64\n",
      " 27  concavity_worst          569 non-null    float64\n",
      " 28  concave points_worst     569 non-null    float64\n",
      " 29  symmetry_worst           569 non-null    float64\n",
      " 30  fractal_dimension_worst  569 non-null    float64\n",
      " 31  n_diagnosis              569 non-null    int64  \n",
      "dtypes: float64(30), int64(2)\n",
      "memory usage: 142.4 KB\n"
     ]
    }
   ],
   "source": [
    "df.info()"
   ]
  },
  {
   "cell_type": "code",
   "execution_count": 158,
   "id": "569e85df",
   "metadata": {},
   "outputs": [],
   "source": [
    "target=df['n_diagnosis']\n",
    "df.drop('n_diagnosis',axis=1,inplace=True)"
   ]
  },
  {
   "cell_type": "markdown",
   "id": "a0711097",
   "metadata": {},
   "source": [
    "# Performing PCA"
   ]
  },
  {
   "cell_type": "code",
   "execution_count": 159,
   "id": "3eea7536",
   "metadata": {},
   "outputs": [
    {
     "data": {
      "text/plain": [
       "StandardScaler()"
      ]
     },
     "execution_count": 159,
     "metadata": {},
     "output_type": "execute_result"
    }
   ],
   "source": [
    "# first we need to scale data \n",
    "from sklearn.preprocessing import StandardScaler\n",
    "scaler = StandardScaler()\n",
    "scaler.fit(df)"
   ]
  },
  {
   "cell_type": "code",
   "execution_count": 160,
   "id": "bab77348",
   "metadata": {},
   "outputs": [],
   "source": [
    "scaled_data = scaler.transform(df)"
   ]
  },
  {
   "cell_type": "code",
   "execution_count": 161,
   "id": "eb66f32d",
   "metadata": {},
   "outputs": [
    {
     "data": {
      "text/plain": [
       "(569, 31)"
      ]
     },
     "execution_count": 161,
     "metadata": {},
     "output_type": "execute_result"
    }
   ],
   "source": [
    "#then perform PCA\n",
    "from sklearn.decomposition import PCA\n",
    "\n",
    "pca = PCA(n_components=4)\n",
    "\n",
    "pca.fit(scaled_data)\n",
    "\n",
    "x_pca = pca.transform(scaled_data)\n",
    "\n",
    "scaled_data.shape"
   ]
  },
  {
   "cell_type": "code",
   "execution_count": 162,
   "id": "f76b97d3",
   "metadata": {},
   "outputs": [
    {
     "data": {
      "text/plain": [
       "(569, 4)"
      ]
     },
     "execution_count": 162,
     "metadata": {},
     "output_type": "execute_result"
    }
   ],
   "source": [
    "x_pca.shape"
   ]
  },
  {
   "cell_type": "markdown",
   "id": "4951d5c3",
   "metadata": {},
   "source": [
    "we can see a huge reduction in the number of feauters, from 30 to 2! "
   ]
  },
  {
   "cell_type": "code",
   "execution_count": 163,
   "id": "dd8199a0",
   "metadata": {},
   "outputs": [
    {
     "data": {
      "text/plain": [
       "array([0.42864701, 0.18376792, 0.09146436, 0.06391475])"
      ]
     },
     "execution_count": 163,
     "metadata": {},
     "output_type": "execute_result"
    }
   ],
   "source": [
    "pca.explained_variance_ratio_"
   ]
  },
  {
   "cell_type": "markdown",
   "id": "8dbcbcb4",
   "metadata": {},
   "source": [
    "# train data"
   ]
  },
  {
   "cell_type": "code",
   "execution_count": 164,
   "id": "d5050ccc",
   "metadata": {},
   "outputs": [],
   "source": [
    "from sklearn.model_selection import train_test_split\n",
    "from sklearn.linear_model import LogisticRegression "
   ]
  },
  {
   "cell_type": "code",
   "execution_count": 165,
   "id": "c820c78c",
   "metadata": {},
   "outputs": [],
   "source": [
    "X_train,X_test,y_train,y_test= train_test_split(df, target,test_size=0.2)"
   ]
  },
  {
   "cell_type": "code",
   "execution_count": 166,
   "id": "b5f9abd5",
   "metadata": {},
   "outputs": [],
   "source": [
    "#scale \n",
    "X_train = scaler.transform(X_train)\n",
    "X_test = scaler.transform(X_test)\n",
    "\n",
    "#PCA\n",
    "X_train = pca.transform(X_train)\n",
    "X_test = pca.transform(X_test)"
   ]
  },
  {
   "cell_type": "code",
   "execution_count": 167,
   "id": "f9eda3ed",
   "metadata": {},
   "outputs": [],
   "source": [
    "lreg= LogisticRegression()"
   ]
  },
  {
   "cell_type": "code",
   "execution_count": 168,
   "id": "f8fba743",
   "metadata": {},
   "outputs": [
    {
     "data": {
      "text/plain": [
       "LogisticRegression()"
      ]
     },
     "execution_count": 168,
     "metadata": {},
     "output_type": "execute_result"
    }
   ],
   "source": [
    "lreg.fit(X_train,y_train)"
   ]
  },
  {
   "cell_type": "code",
   "execution_count": 169,
   "id": "e2ff0051",
   "metadata": {},
   "outputs": [
    {
     "data": {
      "text/plain": [
       "0.956140350877193"
      ]
     },
     "execution_count": 169,
     "metadata": {},
     "output_type": "execute_result"
    }
   ],
   "source": [
    "#get accuracy \n",
    "lreg.score(X_test, y_test)"
   ]
  },
  {
   "cell_type": "code",
   "execution_count": 170,
   "id": "3cef153d",
   "metadata": {},
   "outputs": [
    {
     "data": {
      "text/plain": [
       "0.967032967032967"
      ]
     },
     "execution_count": 170,
     "metadata": {},
     "output_type": "execute_result"
    }
   ],
   "source": [
    "lreg.score(X_train, y_train)"
   ]
  }
 ],
 "metadata": {
  "kernelspec": {
   "display_name": "Python 3",
   "language": "python",
   "name": "python3"
  },
  "language_info": {
   "codemirror_mode": {
    "name": "ipython",
    "version": 3
   },
   "file_extension": ".py",
   "mimetype": "text/x-python",
   "name": "python",
   "nbconvert_exporter": "python",
   "pygments_lexer": "ipython3",
   "version": "3.8.8"
  }
 },
 "nbformat": 4,
 "nbformat_minor": 5
}
